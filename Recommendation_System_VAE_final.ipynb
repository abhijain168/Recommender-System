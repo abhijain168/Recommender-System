{
  "nbformat": 4,
  "nbformat_minor": 0,
  "metadata": {
    "colab": {
      "name": "Recommendation_System_VAE_final.ipynb",
      "version": "0.3.2",
      "views": {},
      "default_view": {},
      "provenance": []
    },
    "kernelspec": {
      "name": "python3",
      "display_name": "Python 3"
    }
  },
  "cells": [
    {
      "metadata": {
        "id": "u4wnr_O4ZRI1",
        "colab_type": "code",
        "colab": {
          "autoexec": {
            "startup": false,
            "wait_interval": 0
          }
        }
      },
      "cell_type": "code",
      "source": [
        "# Code to read csv file into colaboratory:\n",
        "!pip install -U -q PyDrive\n",
        "from pydrive.auth import GoogleAuth\n",
        "from pydrive.drive import GoogleDrive\n",
        "from google.colab import auth\n",
        "from oauth2client.client import GoogleCredentials\n",
        "\n",
        "# 1. Authenticate and create the PyDrive client.\n",
        "auth.authenticate_user()\n",
        "gauth = GoogleAuth()\n",
        "gauth.credentials = GoogleCredentials.get_application_default()\n",
        "drive = GoogleDrive(gauth)"
      ],
      "execution_count": 0,
      "outputs": []
    },
    {
      "metadata": {
        "id": "AX3zNHKjZjZ8",
        "colab_type": "code",
        "colab": {
          "autoexec": {
            "startup": false,
            "wait_interval": 0
          }
        }
      },
      "cell_type": "code",
      "source": [
        "#2. Get the file\n",
        "downloaded = drive.CreateFile({'id':'145IOrHLQMkGy8moUXfLSEK4fk0UtkhED'}) # replace the id with id of file you want to access\n",
        "downloaded.GetContentFile('ratings.dat')"
      ],
      "execution_count": 0,
      "outputs": []
    },
    {
      "metadata": {
        "id": "-R-2e-CrSHl6",
        "colab_type": "code",
        "colab": {
          "autoexec": {
            "startup": false,
            "wait_interval": 0
          }
        },
        "cellView": "code"
      },
      "cell_type": "code",
      "source": [
        "#@title Default title text\n",
        "import pandas as pd\n",
        "import numpy as np\n",
        "import os\n",
        "import time\n",
        "#os.chdir('C://Users//Deepanshi//Documents//competitions//png//recommendation//ml_1m//ml-1m')"
      ],
      "execution_count": 0,
      "outputs": []
    },
    {
      "metadata": {
        "id": "XkpEIc9IRu9a",
        "colab_type": "code",
        "colab": {
          "autoexec": {
            "startup": false,
            "wait_interval": 0
          },
          "base_uri": "https://localhost:8080/",
          "height": 71
        },
        "outputId": "d41338a0-0306-4545-8310-595d6b665e52",
        "executionInfo": {
          "status": "ok",
          "timestamp": 1527887759323,
          "user_tz": -330,
          "elapsed": 7619,
          "user": {
            "displayName": "ABHI JAIN",
            "photoUrl": "//lh6.googleusercontent.com/-j3V_IhE-E6o/AAAAAAAAAAI/AAAAAAAAAVI/-IyEU521eSw/s50-c-k-no/photo.jpg",
            "userId": "100761704141069563845"
          }
        }
      },
      "cell_type": "code",
      "source": [
        "train=pd.read_csv(\"ratings.dat\",sep=\"::\",header=None)\n",
        "train.columns = ['user','movie','rating','timestamp']\n",
        "count_movie = train.groupby('movie').count()\n",
        "count_movie = count_movie.drop('rating',axis = 1)\n",
        "count_movie = count_movie.drop('timestamp',axis = 1).reset_index()\n",
        "movie_rated_more_than_10 = count_movie[count_movie[\"user\"]>10]\n",
        "data_temp = pd.merge(movie_rated_more_than_10, train, how='left', on='movie')\n",
        "data_temp = data_temp.drop('user_x',1)\n",
        "data_temp.columns = ['movie','user','rating','timestamp']"
      ],
      "execution_count": 188,
      "outputs": [
        {
          "output_type": "stream",
          "text": [
            "/usr/local/lib/python3.6/dist-packages/ipykernel_launcher.py:1: ParserWarning: Falling back to the 'python' engine because the 'c' engine does not support regex separators (separators > 1 char and different from '\\s+' are interpreted as regex); you can avoid this warning by specifying engine='python'.\n",
            "  \"\"\"Entry point for launching an IPython kernel.\n"
          ],
          "name": "stderr"
        }
      ]
    },
    {
      "metadata": {
        "id": "vHW7q6nk0jq8",
        "colab_type": "code",
        "colab": {
          "autoexec": {
            "startup": false,
            "wait_interval": 0
          },
          "base_uri": "https://localhost:8080/",
          "height": 34
        },
        "outputId": "61fc83c3-d00c-40f2-ef73-d28bc41516b6",
        "executionInfo": {
          "status": "ok",
          "timestamp": 1527887760411,
          "user_tz": -330,
          "elapsed": 1045,
          "user": {
            "displayName": "ABHI JAIN",
            "photoUrl": "//lh6.googleusercontent.com/-j3V_IhE-E6o/AAAAAAAAAAI/AAAAAAAAAVI/-IyEU521eSw/s50-c-k-no/photo.jpg",
            "userId": "100761704141069563845"
          }
        }
      },
      "cell_type": "code",
      "source": [
        "train.shape"
      ],
      "execution_count": 189,
      "outputs": [
        {
          "output_type": "execute_result",
          "data": {
            "text/plain": [
              "(1000209, 4)"
            ]
          },
          "metadata": {
            "tags": []
          },
          "execution_count": 189
        }
      ]
    },
    {
      "metadata": {
        "id": "qCMmCSlVR0o-",
        "colab_type": "code",
        "colab": {
          "autoexec": {
            "startup": false,
            "wait_interval": 0
          }
        }
      },
      "cell_type": "code",
      "source": [
        "ratings = data_temp.pivot(index = \"user\", columns = \"movie\",values = \"rating\")\n",
        "ratings = ratings.fillna(0)\n",
        "ratings = ratings.as_matrix()"
      ],
      "execution_count": 0,
      "outputs": []
    },
    {
      "metadata": {
        "id": "e5UiBqlRRSZi",
        "colab_type": "code",
        "colab": {
          "autoexec": {
            "startup": false,
            "wait_interval": 0
          },
          "base_uri": "https://localhost:8080/",
          "height": 34
        },
        "outputId": "02dcf0ca-a588-4226-ad74-2facae932f34",
        "executionInfo": {
          "status": "ok",
          "timestamp": 1527887568540,
          "user_tz": -330,
          "elapsed": 1016,
          "user": {
            "displayName": "ABHI JAIN",
            "photoUrl": "//lh6.googleusercontent.com/-j3V_IhE-E6o/AAAAAAAAAAI/AAAAAAAAAVI/-IyEU521eSw/s50-c-k-no/photo.jpg",
            "userId": "100761704141069563845"
          }
        }
      },
      "cell_type": "code",
      "source": [
        "ratings.shape"
      ],
      "execution_count": 178,
      "outputs": [
        {
          "output_type": "execute_result",
          "data": {
            "text/plain": [
              "(6040, 3233)"
            ]
          },
          "metadata": {
            "tags": []
          },
          "execution_count": 178
        }
      ]
    },
    {
      "metadata": {
        "id": "K40rhp9jS1e_",
        "colab_type": "code",
        "colab": {
          "autoexec": {
            "startup": false,
            "wait_interval": 0
          }
        }
      },
      "cell_type": "code",
      "source": [
        "from math import floor\n",
        "import random"
      ],
      "execution_count": 0,
      "outputs": []
    },
    {
      "metadata": {
        "id": "3dY4-st_ehT5",
        "colab_type": "code",
        "colab": {
          "autoexec": {
            "startup": false,
            "wait_interval": 0
          },
          "base_uri": "https://localhost:8080/",
          "height": 34
        },
        "outputId": "c4445e1d-8517-4362-aa9e-05fb55f43e4e",
        "executionInfo": {
          "status": "ok",
          "timestamp": 1527887770181,
          "user_tz": -330,
          "elapsed": 1694,
          "user": {
            "displayName": "ABHI JAIN",
            "photoUrl": "//lh6.googleusercontent.com/-j3V_IhE-E6o/AAAAAAAAAAI/AAAAAAAAAVI/-IyEU521eSw/s50-c-k-no/photo.jpg",
            "userId": "100761704141069563845"
          }
        }
      },
      "cell_type": "code",
      "source": [
        "train_sample = random.sample(range(0,ratings.shape[0]),floor(ratings.shape[0]*0.8))\n",
        "total_sample = list(range(6040))\n",
        "test_sample = list(set(total_sample) - set(train_sample))\n",
        "train_ratings = ratings[train_sample,:]\n",
        "train_ratings.shape\n",
        "test_ratings = ratings[test_sample,:]\n",
        "test_ratings.shape"
      ],
      "execution_count": 191,
      "outputs": [
        {
          "output_type": "execute_result",
          "data": {
            "text/plain": [
              "(1208, 3233)"
            ]
          },
          "metadata": {
            "tags": []
          },
          "execution_count": 191
        }
      ]
    },
    {
      "metadata": {
        "id": "B6UdFOv1Gr9Q",
        "colab_type": "code",
        "colab": {
          "autoexec": {
            "startup": false,
            "wait_interval": 0
          },
          "base_uri": "https://localhost:8080/",
          "height": 34
        },
        "outputId": "5fc79901-232e-4390-9d15-8b8ba1223891",
        "executionInfo": {
          "status": "ok",
          "timestamp": 1527887584428,
          "user_tz": -330,
          "elapsed": 1065,
          "user": {
            "displayName": "ABHI JAIN",
            "photoUrl": "//lh6.googleusercontent.com/-j3V_IhE-E6o/AAAAAAAAAAI/AAAAAAAAAVI/-IyEU521eSw/s50-c-k-no/photo.jpg",
            "userId": "100761704141069563845"
          }
        }
      },
      "cell_type": "code",
      "source": [
        "train_ratings.shape"
      ],
      "execution_count": 181,
      "outputs": [
        {
          "output_type": "execute_result",
          "data": {
            "text/plain": [
              "(4832, 3233)"
            ]
          },
          "metadata": {
            "tags": []
          },
          "execution_count": 181
        }
      ]
    },
    {
      "metadata": {
        "id": "AwmdDV3HgEZ-",
        "colab_type": "code",
        "colab": {
          "autoexec": {
            "startup": false,
            "wait_interval": 0
          }
        }
      },
      "cell_type": "code",
      "source": [
        "from keras.layers import Input, Dense, Lambda\n",
        "from keras.models import Model\n",
        "from keras.objectives import binary_crossentropy\n",
        "from keras.callbacks import LearningRateScheduler\n",
        "\n",
        "import numpy as np\n",
        "import matplotlib.pyplot as plt\n",
        "import keras.backend as K\n",
        "import tensorflow as tf"
      ],
      "execution_count": 0,
      "outputs": []
    },
    {
      "metadata": {
        "id": "DC7h3LyFgBac",
        "colab_type": "code",
        "colab": {
          "autoexec": {
            "startup": false,
            "wait_interval": 0
          }
        }
      },
      "cell_type": "code",
      "source": [
        "def create_lstm_vae(input_dim, \n",
        "    batch_size, \n",
        "    intermediate_dim, \n",
        "    latent_dim,\n",
        "    epsilon_std=1.):\n",
        "\n",
        "    # Q(z|X) -- encoder\n",
        "    inputs = Input(shape=(input_dim,))\n",
        "    h_q = Dense(intermediate_dim, activation='relu')(inputs)\n",
        "    \n",
        "\n",
        "    # VAE Z layer\n",
        "    mu = Dense(latent_dim, activation='linear')(h_q)\n",
        "    log_sigma = Dense(latent_dim, activation='linear')(h_q)\n",
        "    \n",
        "    def sampling(args):\n",
        "        mu, log_sigma = args\n",
        "        eps = K.random_normal(shape=(batch_size, latent_dim),\n",
        "                                  mean=0., stddev=epsilon_std)\n",
        "        return mu + K.exp(log_sigma/2) * eps\n",
        "\n",
        "    # note that \"output_shape\" isn't necessary with the TensorFlow backend\n",
        "    \n",
        "    z = Lambda(sampling, output_shape = (latent_dim,))([mu, log_sigma]) # what does this give as output? \n",
        "   \n",
        "    # P(X|z) -- decoder\n",
        "    decoder_hidden = Dense(intermediate_dim, activation='relu')\n",
        "    decoder_out = Dense(input_dim, activation='sigmoid')\n",
        "    h_p = decoder_hidden(z)\n",
        "    outputs = decoder_out(h_p)\n",
        "                   \n",
        "    # Overall VAE model, for reconstruction and training\n",
        "    vae = Model(inputs, outputs)\n",
        "\n",
        "    # Encoder model, to encode input into latent variable\n",
        "    # We use the mean as the output as it is the center point, the representative of the gaussian\n",
        "    encoder = Model(inputs, mu)\n",
        "\n",
        "    # Generator model, generate new data given latent variable z\n",
        "    d_in = Input(shape=(latent_dim,))\n",
        "    d_h = decoder_hidden(d_in)\n",
        "    d_out = decoder_out(d_h)\n",
        "    decoder = Model(d_in, d_out)\n",
        "\n",
        "    def vae_loss(y_true, y_pred):\n",
        "        \"\"\" Calculate loss = reconstruction loss + KL loss for each data in minibatch \"\"\"\n",
        "        # E[log P(X|z)]\n",
        "        recon = K.sum(K.binary_crossentropy(y_pred, y_true), axis=1)\n",
        "        # D_KL(Q(z|X) || P(z|X)); calculate in closed form as both dist. are Gaussian\n",
        "        kl = 0.5 * K.sum(K.exp(log_sigma) + K.square(mu) - 1. - log_sigma, axis=1)\n",
        "\n",
        "        return recon + kl\n",
        "\n",
        "    vae.compile(optimizer='adam', loss=vae_loss)\n",
        "    \n",
        "    return vae, encoder, decoder\n"
      ],
      "execution_count": 0,
      "outputs": []
    },
    {
      "metadata": {
        "id": "qkyaM_RWS6A5",
        "colab_type": "code",
        "colab": {
          "autoexec": {
            "startup": false,
            "wait_interval": 0
          }
        }
      },
      "cell_type": "code",
      "source": [
        "input_dim = train_ratings.shape[-1] # 13\n",
        "batch_size = 1\n",
        "\n"
      ],
      "execution_count": 0,
      "outputs": []
    },
    {
      "metadata": {
        "id": "bNhs0X2wgZzd",
        "colab_type": "code",
        "colab": {
          "autoexec": {
            "startup": false,
            "wait_interval": 0
          }
        }
      },
      "cell_type": "code",
      "source": [
        "vae1, enc1, gen1 = create_lstm_vae(input_dim, \n",
        "        batch_size=batch_size, \n",
        "        intermediate_dim=32,\n",
        "        latent_dim=10,\n",
        "        epsilon_std=1.)\n"
      ],
      "execution_count": 0,
      "outputs": []
    },
    {
      "metadata": {
        "id": "3GSav5jxmA0y",
        "colab_type": "code",
        "colab": {
          "autoexec": {
            "startup": false,
            "wait_interval": 0
          },
          "base_uri": "https://localhost:8080/",
          "height": 714
        },
        "outputId": "d17f7bc9-78b3-4c71-8587-f2ffcb850279",
        "executionInfo": {
          "status": "ok",
          "timestamp": 1527887825469,
          "user_tz": -330,
          "elapsed": 45023,
          "user": {
            "displayName": "ABHI JAIN",
            "photoUrl": "//lh6.googleusercontent.com/-j3V_IhE-E6o/AAAAAAAAAAI/AAAAAAAAAVI/-IyEU521eSw/s50-c-k-no/photo.jpg",
            "userId": "100761704141069563845"
          }
        }
      },
      "cell_type": "code",
      "source": [
        "start_time = time.time()\n",
        "output_temp = vae1.fit(train_ratings, train_ratings, epochs=20)\n",
        "print(time.time()-start_time)"
      ],
      "execution_count": 195,
      "outputs": [
        {
          "output_type": "stream",
          "text": [
            "Epoch 1/20\n",
            "4832/4832 [==============================] - 3s 561us/step - loss: 6177295051.7556\n",
            "Epoch 2/20\n",
            "4832/4832 [==============================] - 2s 437us/step - loss: 60235171518.7983\n",
            "Epoch 3/20\n",
            "4832/4832 [==============================] - 2s 434us/step - loss: 2831.0180\n",
            "Epoch 4/20\n",
            "4832/4832 [==============================] - 2s 443us/step - loss: 2743.1760\n",
            "Epoch 5/20\n",
            "4832/4832 [==============================] - 2s 445us/step - loss: 2723.2269\n",
            "Epoch 6/20\n",
            "4832/4832 [==============================] - 2s 449us/step - loss: 2700.3632\n",
            "Epoch 7/20\n",
            "4832/4832 [==============================] - 2s 449us/step - loss: 2683.7836\n",
            "Epoch 8/20\n",
            " 416/4832 [=>............................] - ETA: 1s - loss: 2555.0255"
          ],
          "name": "stdout"
        },
        {
          "output_type": "stream",
          "text": [
            "4832/4832 [==============================] - 2s 441us/step - loss: 2684.7651\n",
            "Epoch 9/20\n",
            "4832/4832 [==============================] - 2s 443us/step - loss: 2667.5789\n",
            "Epoch 10/20\n",
            "4832/4832 [==============================] - 2s 435us/step - loss: 2662.4590\n",
            "Epoch 11/20\n",
            "4832/4832 [==============================] - 2s 439us/step - loss: 2655.4006\n",
            "Epoch 12/20\n",
            "4832/4832 [==============================] - 2s 441us/step - loss: 2650.1916\n",
            "Epoch 13/20\n",
            "4832/4832 [==============================] - 2s 440us/step - loss: 2645.1939\n",
            "Epoch 14/20\n",
            "4832/4832 [==============================] - 2s 432us/step - loss: 2638.1253\n",
            "Epoch 15/20\n",
            "1312/4832 [=======>......................] - ETA: 1s - loss: 2667.1477"
          ],
          "name": "stdout"
        },
        {
          "output_type": "stream",
          "text": [
            "4832/4832 [==============================] - 2s 434us/step - loss: 2632.6927\n",
            "Epoch 16/20\n",
            "4832/4832 [==============================] - 2s 437us/step - loss: 2629.4312\n",
            "Epoch 17/20\n",
            "4832/4832 [==============================] - 2s 436us/step - loss: 2624.2764\n",
            "Epoch 18/20\n",
            "4832/4832 [==============================] - 2s 441us/step - loss: 2616.9063\n",
            "Epoch 19/20\n",
            "4832/4832 [==============================] - 2s 440us/step - loss: 2611.1288\n",
            "Epoch 20/20\n",
            "4832/4832 [==============================] - 2s 434us/step - loss: 2605.2128\n",
            "43.54880332946777\n"
          ],
          "name": "stdout"
        }
      ]
    },
    {
      "metadata": {
        "id": "2emlRSRvrMvT",
        "colab_type": "code",
        "colab": {
          "autoexec": {
            "startup": false,
            "wait_interval": 0
          },
          "base_uri": "https://localhost:8080/",
          "height": 34
        },
        "outputId": "1e789568-278f-48f7-9287-5321f98e0a29",
        "executionInfo": {
          "status": "ok",
          "timestamp": 1527888907818,
          "user_tz": -330,
          "elapsed": 1835,
          "user": {
            "displayName": "ABHI JAIN",
            "photoUrl": "//lh6.googleusercontent.com/-j3V_IhE-E6o/AAAAAAAAAAI/AAAAAAAAAVI/-IyEU521eSw/s50-c-k-no/photo.jpg",
            "userId": "100761704141069563845"
          }
        }
      },
      "cell_type": "code",
      "source": [
        "total_score = 0\n",
        "count = 0\n",
        "count_2 = 0\n",
        "n = 50\n",
        "for row in train_ratings:\n",
        "  temp_row_1 = row.copy()\n",
        "  temp_row_2 = row.copy()\n",
        "  count = count+1\n",
        "  non_zero_indices = temp_row_2.nonzero()\n",
        "  n_non_zero_indices = len(non_zero_indices[0])\n",
        "  temp = (temp_row_2>3).sum()\n",
        "  if(n_non_zero_indices>n):\n",
        "    count_2 += 1\n",
        "    row_new = np.array(temp_row_2)[np.newaxis]\n",
        "    preds = vae1.predict(row_new, batch_size=batch_size)\n",
        "    preds = preds.reshape(3233,)\n",
        "    top_40_orig = np.argpartition(temp_row_1, -temp)[-temp:]\n",
        "    top_40_pred = np.argpartition(preds, -n)[-n:]\n",
        "    score = len(set(top_40_orig).intersection(set(top_40_pred)))\n",
        "    score = score/n\n",
        "    total_score = total_score+score\n",
        "print(total_score/count_2)"
      ],
      "execution_count": 214,
      "outputs": [
        {
          "output_type": "stream",
          "text": [
            "0.2865005931198103\n"
          ],
          "name": "stdout"
        }
      ]
    },
    {
      "metadata": {
        "id": "h9mUM1jUSzJt",
        "colab_type": "code",
        "colab": {
          "autoexec": {
            "startup": false,
            "wait_interval": 0
          }
        }
      },
      "cell_type": "code",
      "source": [
        ""
      ],
      "execution_count": 0,
      "outputs": []
    }
  ]
}