{
 "cells": [
  {
   "cell_type": "code",
   "execution_count": 0,
   "metadata": {
    "colab": {
     "autoexec": {
      "startup": false,
      "wait_interval": 0
     }
    },
    "colab_type": "code",
    "id": "_yzEqGR3Pr8F"
   },
   "outputs": [],
   "source": [
    "# Code to read csv file into colaboratory:\n",
    "!pip install -U -q PyDrive\n",
    "from pydrive.auth import GoogleAuth\n",
    "from pydrive.drive import GoogleDrive\n",
    "from google.colab import auth\n",
    "from oauth2client.client import GoogleCredentials\n",
    "\n",
    "# 1. Authenticate and create the PyDrive client.\n",
    "auth.authenticate_user()\n",
    "gauth = GoogleAuth()\n",
    "gauth.credentials = GoogleCredentials.get_application_default()\n",
    "drive = GoogleDrive(gauth)"
   ]
  },
  {
   "cell_type": "code",
   "execution_count": 0,
   "metadata": {
    "colab": {
     "autoexec": {
      "startup": false,
      "wait_interval": 0
     }
    },
    "colab_type": "code",
    "id": "S0QKyUGhQNzL"
   },
   "outputs": [],
   "source": [
    "#2. Get the file\n",
    "downloaded = drive.CreateFile({'id':'145IOrHLQMkGy8moUXfLSEK4fk0UtkhED'}) # replace the id with id of file you want to access\n",
    "downloaded.GetContentFile('ratings.dat')"
   ]
  },
  {
   "cell_type": "code",
   "execution_count": 0,
   "metadata": {
    "colab": {
     "autoexec": {
      "startup": false,
      "wait_interval": 0
     }
    },
    "colab_type": "code",
    "id": "VMRi-iVIGHjd"
   },
   "outputs": [],
   "source": [
    "import random\n",
    "from math import floor\n",
    "from collections import Counter\n",
    "import math"
   ]
  },
  {
   "cell_type": "code",
   "execution_count": 0,
   "metadata": {
    "colab": {
     "autoexec": {
      "startup": false,
      "wait_interval": 0
     }
    },
    "colab_type": "code",
    "id": "NSgM8ia0MYeM"
   },
   "outputs": [],
   "source": [
    "import pandas as pd\n",
    "import numpy as np\n",
    "from scipy.sparse import coo_matrix\n",
    "from sklearn.metrics.pairwise import cosine_similarity\n",
    "from sklearn.preprocessing import normalize\n",
    "from scipy import sparse"
   ]
  },
  {
   "cell_type": "code",
   "execution_count": 34,
   "metadata": {
    "colab": {
     "autoexec": {
      "startup": false,
      "wait_interval": 0
     },
     "base_uri": "https://localhost:8080/",
     "height": 71
    },
    "colab_type": "code",
    "executionInfo": {
     "elapsed": 17347,
     "status": "ok",
     "timestamp": 1527876498294,
     "user": {
      "displayName": "ABHI JAIN",
      "photoUrl": "//lh6.googleusercontent.com/-j3V_IhE-E6o/AAAAAAAAAAI/AAAAAAAAAVI/-IyEU521eSw/s50-c-k-no/photo.jpg",
      "userId": "100761704141069563845"
     },
     "user_tz": -330
    },
    "id": "ckwyLwclMd1C",
    "outputId": "e8057944-a959-4e0e-c905-8c3311924ce4"
   },
   "outputs": [
    {
     "name": "stderr",
     "output_type": "stream",
     "text": [
      "/usr/local/lib/python3.6/dist-packages/ipykernel_launcher.py:1: ParserWarning: Falling back to the 'python' engine because the 'c' engine does not support regex separators (separators > 1 char and different from '\\s+' are interpreted as regex); you can avoid this warning by specifying engine='python'.\n",
      "  \"\"\"Entry point for launching an IPython kernel.\n"
     ]
    }
   ],
   "source": [
    "data=pd.read_csv(\"ratings.dat\",sep=\"::\",header=None)"
   ]
  },
  {
   "cell_type": "code",
   "execution_count": 35,
   "metadata": {
    "colab": {
     "autoexec": {
      "startup": false,
      "wait_interval": 0
     },
     "base_uri": "https://localhost:8080/",
     "height": 34
    },
    "colab_type": "code",
    "executionInfo": {
     "elapsed": 1000,
     "status": "ok",
     "timestamp": 1527876499332,
     "user": {
      "displayName": "ABHI JAIN",
      "photoUrl": "//lh6.googleusercontent.com/-j3V_IhE-E6o/AAAAAAAAAAI/AAAAAAAAAVI/-IyEU521eSw/s50-c-k-no/photo.jpg",
      "userId": "100761704141069563845"
     },
     "user_tz": -330
    },
    "id": "IjdpXs92Mff7",
    "outputId": "22ebf99e-b365-420f-d716-ff3c5d9aa638"
   },
   "outputs": [
    {
     "data": {
      "text/plain": [
       "(1000209, 4)"
      ]
     },
     "execution_count": 35,
     "metadata": {
      "tags": []
     },
     "output_type": "execute_result"
    }
   ],
   "source": [
    "data.shape"
   ]
  },
  {
   "cell_type": "code",
   "execution_count": 0,
   "metadata": {
    "colab": {
     "autoexec": {
      "startup": false,
      "wait_interval": 0
     }
    },
    "colab_type": "code",
    "id": "XCgI8gtIMlYd"
   },
   "outputs": [],
   "source": [
    "data.columns = ['user','movie','rating','timestamp']"
   ]
  },
  {
   "cell_type": "code",
   "execution_count": 0,
   "metadata": {
    "colab": {
     "autoexec": {
      "startup": false,
      "wait_interval": 0
     }
    },
    "colab_type": "code",
    "id": "GZloNN78NZvT"
   },
   "outputs": [],
   "source": [
    "#removing products which have been rated less than 10 times\n",
    "count_movie = data.groupby('movie').count()\n",
    "count_movie = count_movie.drop('rating',axis = 1)\n",
    "count_movie = count_movie.drop('timestamp',axis = 1).reset_index()\n",
    "movie_rated_more_than_10 = count_movie[count_movie[\"user\"]>10]\n",
    "data_new = pd.merge(movie_rated_more_than_10, data, how='left', on='movie')\n",
    "data_new = data_new.drop('user_x',1)\n",
    "data_new.columns = ['movie','user','rating','timestamp']"
   ]
  },
  {
   "cell_type": "code",
   "execution_count": 50,
   "metadata": {
    "colab": {
     "autoexec": {
      "startup": false,
      "wait_interval": 0
     },
     "base_uri": "https://localhost:8080/",
     "height": 34
    },
    "colab_type": "code",
    "executionInfo": {
     "elapsed": 1149,
     "status": "ok",
     "timestamp": 1527876812943,
     "user": {
      "displayName": "ABHI JAIN",
      "photoUrl": "//lh6.googleusercontent.com/-j3V_IhE-E6o/AAAAAAAAAAI/AAAAAAAAAVI/-IyEU521eSw/s50-c-k-no/photo.jpg",
      "userId": "100761704141069563845"
     },
     "user_tz": -330
    },
    "id": "lzuYLHXzjW48",
    "outputId": "f65541b7-6990-4381-d9c5-de36052c12ab"
   },
   "outputs": [
    {
     "data": {
      "text/plain": [
       "11"
      ]
     },
     "execution_count": 50,
     "metadata": {
      "tags": []
     },
     "output_type": "execute_result"
    }
   ],
   "source": [
    "min(movie_rated_more_than_10.user)"
   ]
  },
  {
   "cell_type": "code",
   "execution_count": 38,
   "metadata": {
    "colab": {
     "autoexec": {
      "startup": false,
      "wait_interval": 0
     },
     "base_uri": "https://localhost:8080/",
     "height": 378
    },
    "colab_type": "code",
    "executionInfo": {
     "elapsed": 2162,
     "status": "ok",
     "timestamp": 1527876507289,
     "user": {
      "displayName": "ABHI JAIN",
      "photoUrl": "//lh6.googleusercontent.com/-j3V_IhE-E6o/AAAAAAAAAAI/AAAAAAAAAVI/-IyEU521eSw/s50-c-k-no/photo.jpg",
      "userId": "100761704141069563845"
     },
     "user_tz": -330
    },
    "id": "3FhP-x7zU7vs",
    "outputId": "aebd10fa-ca96-4f24-b1a1-5ca4a710a899"
   },
   "outputs": [
    {
     "data": {
      "text/plain": [
       "<matplotlib.axes._subplots.AxesSubplot at 0x7f204e670ac8>"
      ]
     },
     "execution_count": 38,
     "metadata": {
      "tags": []
     },
     "output_type": "execute_result"
    },
    {
     "data": {
      "image/png": "[encoded data removed]",
      "text/plain": [
       "<matplotlib.figure.Figure at 0x7f204e1bc940>"
      ]
     },
     "metadata": {
      "tags": []
     },
     "output_type": "display_data"
    }
   ],
   "source": [
    "count_movie.plot(x ='movie',y ='user')"
   ]
  },
  {
   "cell_type": "code",
   "execution_count": 39,
   "metadata": {
    "colab": {
     "autoexec": {
      "startup": false,
      "wait_interval": 0
     },
     "base_uri": "https://localhost:8080/",
     "height": 378
    },
    "colab_type": "code",
    "executionInfo": {
     "elapsed": 1393,
     "status": "ok",
     "timestamp": 1527876508764,
     "user": {
      "displayName": "ABHI JAIN",
      "photoUrl": "//lh6.googleusercontent.com/-j3V_IhE-E6o/AAAAAAAAAAI/AAAAAAAAAVI/-IyEU521eSw/s50-c-k-no/photo.jpg",
      "userId": "100761704141069563845"
     },
     "user_tz": -330
    },
    "id": "WFk3Jq0PU0p2",
    "outputId": "2430b7fa-5a71-4117-8513-cc95f3416aeb"
   },
   "outputs": [
    {
     "data": {
      "text/plain": [
       "<matplotlib.axes._subplots.AxesSubplot at 0x7f204d056668>"
      ]
     },
     "execution_count": 39,
     "metadata": {
      "tags": []
     },
     "output_type": "execute_result"
    },
    {
     "data": {
      "image/png": "[encoded data removed]",
      "text/plain": [
       "<matplotlib.figure.Figure at 0x7f204e1bc6d8>"
      ]
     },
     "metadata": {
      "tags": []
     },
     "output_type": "display_data"
    }
   ],
   "source": [
    "count_user = data.groupby('user').count()\n",
    "count_user = count_user.drop('rating',axis = 1)\n",
    "count_user = count_user.drop('timestamp',axis = 1).reset_index()\n",
    "count_user.plot(x = 'user',y='movie')"
   ]
  },
  {
   "cell_type": "code",
   "execution_count": 12,
   "metadata": {
    "colab": {
     "autoexec": {
      "startup": false,
      "wait_interval": 0
     },
     "base_uri": "https://localhost:8080/",
     "height": 235
    },
    "colab_type": "code",
    "executionInfo": {
     "elapsed": 1300,
     "status": "ok",
     "timestamp": 1527784403990,
     "user": {
      "displayName": "ABHI JAIN",
      "photoUrl": "//lh6.googleusercontent.com/-j3V_IhE-E6o/AAAAAAAAAAI/AAAAAAAAAVI/-IyEU521eSw/s50-c-k-no/photo.jpg",
      "userId": "100761704141069563845"
     },
     "user_tz": -330
    },
    "id": "f9fsoDlkTdwn",
    "outputId": "3c00aca4-891c-4db4-e8a8-9fa0425aaf16"
   },
   "outputs": [
    {
     "data": {
      "text/html": [
       "<div>\n",
       "<style scoped>\n",
       "    .dataframe tbody tr th:only-of-type {\n",
       "        vertical-align: middle;\n",
       "    }\n",
       "\n",
       "    .dataframe tbody tr th {\n",
       "        vertical-align: top;\n",
       "    }\n",
       "\n",
       "    .dataframe thead th {\n",
       "        text-align: right;\n",
       "    }\n",
       "</style>\n",
       "<table border=\"1\" class=\"dataframe\">\n",
       "  <thead>\n",
       "    <tr style=\"text-align: right;\">\n",
       "      <th></th>\n",
       "      <th>movie</th>\n",
       "      <th>user</th>\n",
       "      <th>timestamp</th>\n",
       "    </tr>\n",
       "    <tr>\n",
       "      <th>rating</th>\n",
       "      <th></th>\n",
       "      <th></th>\n",
       "      <th></th>\n",
       "    </tr>\n",
       "  </thead>\n",
       "  <tbody>\n",
       "    <tr>\n",
       "      <th>1</th>\n",
       "      <td>55836</td>\n",
       "      <td>55836</td>\n",
       "      <td>55836</td>\n",
       "    </tr>\n",
       "    <tr>\n",
       "      <th>2</th>\n",
       "      <td>107217</td>\n",
       "      <td>107217</td>\n",
       "      <td>107217</td>\n",
       "    </tr>\n",
       "    <tr>\n",
       "      <th>3</th>\n",
       "      <td>260681</td>\n",
       "      <td>260681</td>\n",
       "      <td>260681</td>\n",
       "    </tr>\n",
       "    <tr>\n",
       "      <th>4</th>\n",
       "      <td>348480</td>\n",
       "      <td>348480</td>\n",
       "      <td>348480</td>\n",
       "    </tr>\n",
       "    <tr>\n",
       "      <th>5</th>\n",
       "      <td>226055</td>\n",
       "      <td>226055</td>\n",
       "      <td>226055</td>\n",
       "    </tr>\n",
       "  </tbody>\n",
       "</table>\n",
       "</div>"
      ],
      "text/plain": [
       "         movie    user  timestamp\n",
       "rating                           \n",
       "1        55836   55836      55836\n",
       "2       107217  107217     107217\n",
       "3       260681  260681     260681\n",
       "4       348480  348480     348480\n",
       "5       226055  226055     226055"
      ]
     },
     "execution_count": 12,
     "metadata": {
      "tags": []
     },
     "output_type": "execute_result"
    }
   ],
   "source": [
    "count_rating = data_new.groupby('rating').count()\n",
    "count_rating"
   ]
  },
  {
   "cell_type": "code",
   "execution_count": 0,
   "metadata": {
    "colab": {
     "autoexec": {
      "startup": false,
      "wait_interval": 0
     }
    },
    "colab_type": "code",
    "id": "LxFGNpoB2VbA"
   },
   "outputs": [],
   "source": [
    "ratings = data_new.pivot(index = \"user\", columns = \"movie\",values = \"rating\")\n",
    "ratings = ratings.fillna(0)\n",
    "ratings = ratings.as_matrix()"
   ]
  },
  {
   "cell_type": "code",
   "execution_count": 0,
   "metadata": {
    "colab": {
     "autoexec": {
      "startup": false,
      "wait_interval": 0
     }
    },
    "colab_type": "code",
    "id": "GZ3MiaESuieD"
   },
   "outputs": [],
   "source": [
    "ratings_bool = ratings==0\n",
    "ratings_bool = ratings_bool.astype(int)\n",
    "product_count = ratings_bool.sum(axis = 1)\n",
    "user_count = ratings_bool.sum(axis = 0)"
   ]
  },
  {
   "cell_type": "code",
   "execution_count": 0,
   "metadata": {
    "colab": {
     "autoexec": {
      "startup": false,
      "wait_interval": 0
     }
    },
    "colab_type": "code",
    "id": "e7OHxys4keHj"
   },
   "outputs": [],
   "source": [
    "#Storing the weights of normalization\n",
    "#ratings_square = ratings.copy()\n",
    "ratings_square = np.square(ratings)\n",
    "row_weights = np.sqrt(ratings_square.sum(axis = 1))\n",
    "\n",
    "#normalizing along the rows\n",
    "ratings = normalize(sparse.csr_matrix(ratings), norm='l2', axis=1).todense()\n",
    "ratings_square = np.square(ratings)\n",
    "column_weights = np.sqrt(ratings_square.sum(axis = 0)).T\n",
    "\n",
    "#normalizing along the columns\n",
    "ratings = normalize(ratings, norm='l2', axis=0)\n",
    "\n",
    "#converting column_weights into vector to make vector multiplication easy\n",
    "column_weights_new = np.zeros(shape=(3233,))\n",
    "for i in range(column_weights.shape[0]):\n",
    "  column_weights_new[i] = column_weights[i,0]"
   ]
  },
  {
   "cell_type": "code",
   "execution_count": 0,
   "metadata": {
    "colab": {
     "autoexec": {
      "startup": false,
      "wait_interval": 0
     }
    },
    "colab_type": "code",
    "id": "u6rSHH6owoMv"
   },
   "outputs": [],
   "source": [
    "#converting row_weights into vector to make vector multiplication easy\n",
    "row_weights_new = np.zeros(shape=(6040,))\n",
    "for i in range(row_weights.shape[0]):\n",
    "  row_weights_new[i] = row_weights[i]"
   ]
  },
  {
   "cell_type": "code",
   "execution_count": 0,
   "metadata": {
    "colab": {
     "autoexec": {
      "startup": false,
      "wait_interval": 0
     }
    },
    "colab_type": "code",
    "id": "fviFFM1li9jg"
   },
   "outputs": [],
   "source": [
    "#Generating Similarity Matrix for Item-Item\n",
    "similarities_sparse_item = cosine_similarity(ratings.T,dense_output=False)\n",
    "\n",
    "#Generating Similarity Matrix for User-User\n",
    "similarities_sparse_user = cosine_similarity(ratings,dense_output=False)"
   ]
  },
  {
   "cell_type": "code",
   "execution_count": 0,
   "metadata": {
    "colab": {
     "autoexec": {
      "startup": false,
      "wait_interval": 0
     }
    },
    "colab_type": "code",
    "id": "2bb1aEU9lUQz"
   },
   "outputs": [],
   "source": [
    "#predicting the ratings based on item-item similarity\n",
    "predicted_ratings_item_similarity = ratings @ similarities_sparse_item\n",
    "#predicting the ratings based on user-user similarity\n",
    "#predicted_ratings_user_similarity = np.matmul(similarities_sparse_user.todense(),ratings.todense())\n",
    "predicted_ratings_user_similarity = similarities_sparse_user @ ratings"
   ]
  },
  {
   "cell_type": "code",
   "execution_count": 0,
   "metadata": {
    "colab": {
     "autoexec": {
      "startup": false,
      "wait_interval": 0
     }
    },
    "colab_type": "code",
    "id": "Q9F35wakoCQV"
   },
   "outputs": [],
   "source": [
    "#dividing by number of users or products as per necessary\n",
    "predicted_ratings_user_similarity = predicted_ratings_user_similarity/user_count\n",
    "predicted_ratings_item_similarity = ((predicted_ratings_item_similarity.T)/product_count).T"
   ]
  },
  {
   "cell_type": "code",
   "execution_count": 0,
   "metadata": {
    "colab": {
     "autoexec": {
      "startup": false,
      "wait_interval": 0
     }
    },
    "colab_type": "code",
    "id": "0H710Vwxrx1A"
   },
   "outputs": [],
   "source": [
    "#denormalizing the predicted ratings matrix\n",
    "predicted_ratings_item_similarity_denorm = (((np.array(predicted_ratings_item_similarity)*column_weights_new).T)*row_weights).T\n",
    "predicted_ratings_user_similarity_denorm = (((np.array(predicted_ratings_user_similarity)*column_weights_new).T)*row_weights).T"
   ]
  },
  {
   "cell_type": "code",
   "execution_count": 0,
   "metadata": {
    "colab": {
     "autoexec": {
      "startup": false,
      "wait_interval": 0
     }
    },
    "colab_type": "code",
    "id": "eiIBCNgzxjHX"
   },
   "outputs": [],
   "source": [
    "#denormalizing ratings matrix\n",
    "ratings_temp_row = (np.array(ratings)*column_weights_new)\n",
    "ratings_denorm = (ratings_temp_row.T*row_weights_new).T"
   ]
  },
  {
   "cell_type": "code",
   "execution_count": 226,
   "metadata": {
    "colab": {
     "autoexec": {
      "startup": false,
      "wait_interval": 0
     },
     "base_uri": "https://localhost:8080/",
     "height": 34
    },
    "colab_type": "code",
    "executionInfo": {
     "elapsed": 4627,
     "status": "ok",
     "timestamp": 1527881752315,
     "user": {
      "displayName": "ABHI JAIN",
      "photoUrl": "//lh6.googleusercontent.com/-j3V_IhE-E6o/AAAAAAAAAAI/AAAAAAAAAVI/-IyEU521eSw/s50-c-k-no/photo.jpg",
      "userId": "100761704141069563845"
     },
     "user_tz": -330
    },
    "id": "jrnOF1WwxIPX",
    "outputId": "e665cfff-ee67-4e9e-c640-b3a42db99998"
   },
   "outputs": [
    {
     "name": "stdout",
     "output_type": "stream",
     "text": [
      "3.643002499001647\n"
     ]
    }
   ],
   "source": [
    "sum_err = 0\n",
    "total_zeros = 0\n",
    "count = 0\n",
    "\n",
    "for row in ratings_denorm:\n",
    "  #row = row.todense()\n",
    "  temp_row = row.copy()\n",
    "  non_zero_indices = row.nonzero()\n",
    "  n_non_zero_indices = len(non_zero_indices[0])\n",
    "  testset = random.sample(range(0,len(non_zero_indices[0])),floor(len(non_zero_indices[0])*0.3))\n",
    "  for idx in testset:\n",
    "    u = non_zero_indices[0][idx]\n",
    "    row[u] = 0 \n",
    "  new_non_zero = row.nonzero()\n",
    "  zero_diff = set(non_zero_indices[0]) - set(new_non_zero[0])\n",
    "  total_zeros = total_zeros + len(zero_diff)\n",
    "  row_new = np.array(row)[np.newaxis]\n",
    "  \n",
    "  preds = predicted_ratings_item_similarity_denorm[count]\n",
    "  #print(temp_row.shape)\n",
    "  for i in zero_diff:\n",
    "    err = (temp_row[i]-preds[i])**2\n",
    "    sum_err = sum_err + err\n",
    "  #if(count%50 ==0):\n",
    "    #print(\"for count\",count)\n",
    "    #print(preds)\n",
    "    #print(np.amax(preds))\n",
    "    #print(np.argpartition(preds, -10)[0][0:10])\n",
    "    #print(np.argpartition(row, -10)[0][-10:])\n",
    "  count = count+1\n",
    "rmse = (sum_err/total_zeros)**0.5\n",
    "print(rmse)"
   ]
  }
 ],
 "metadata": {
  "colab": {
   "default_view": {},
   "name": "Recommendation System similarity final",
   "provenance": [
    {
     "file_id": "13kTAtt0WkS3qT3yLR8VvL_6ybJmZdllO",
     "timestamp": 1526496480765
    }
   ],
   "version": "0.3.2",
   "views": {}
  },
  "kernelspec": {
   "display_name": "Python 3",
   "language": "python",
   "name": "python3"
  },
  "language_info": {
   "codemirror_mode": {
    "name": "ipython",
    "version": 3
   },
   "file_extension": ".py",
   "mimetype": "text/x-python",
   "name": "python",
   "nbconvert_exporter": "python",
   "pygments_lexer": "ipython3",
   "version": "3.7.1"
  }
 },
 "nbformat": 4,
 "nbformat_minor": 1
}
